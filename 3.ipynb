{
 "cells": [
  {
   "cell_type": "code",
   "execution_count": 2,
   "metadata": {},
   "outputs": [
    {
     "name": "stdout",
     "output_type": "stream",
     "text": [
      "Train on 8 samples, validate on 1 samples\n",
      "Epoch 1/20\n",
      "8/8 [==============================] - 0s 45ms/step - loss: 6.5687 - acc: 0.5000 - val_loss: 15.9424 - val_acc: 0.0000e+00\n",
      "Epoch 2/20\n",
      "8/8 [==============================] - 0s 8ms/step - loss: 7.9712 - acc: 0.5000 - val_loss: 15.9424 - val_acc: 0.0000e+00\n",
      "Epoch 3/20\n",
      "8/8 [==============================] - 0s 8ms/step - loss: 7.9712 - acc: 0.5000 - val_loss: 15.9424 - val_acc: 0.0000e+00\n",
      "Epoch 4/20\n",
      "8/8 [==============================] - 0s 8ms/step - loss: 7.9712 - acc: 0.5000 - val_loss: 15.9424 - val_acc: 0.0000e+00\n",
      "Epoch 5/20\n",
      "8/8 [==============================] - 0s 9ms/step - loss: 7.9712 - acc: 0.5000 - val_loss: 15.9424 - val_acc: 0.0000e+00\n",
      "Epoch 6/20\n",
      "8/8 [==============================] - 0s 9ms/step - loss: 7.9712 - acc: 0.5000 - val_loss: 15.9424 - val_acc: 0.0000e+00\n",
      "Epoch 7/20\n",
      "8/8 [==============================] - 0s 10ms/step - loss: 7.9712 - acc: 0.5000 - val_loss: 15.9424 - val_acc: 0.0000e+00\n",
      "Epoch 8/20\n",
      "8/8 [==============================] - 0s 11ms/step - loss: 7.9712 - acc: 0.5000 - val_loss: 15.9424 - val_acc: 0.0000e+00\n",
      "Epoch 9/20\n",
      "8/8 [==============================] - 0s 11ms/step - loss: 7.9712 - acc: 0.5000 - val_loss: 15.9424 - val_acc: 0.0000e+00\n",
      "Epoch 10/20\n",
      "8/8 [==============================] - 0s 11ms/step - loss: 7.9712 - acc: 0.5000 - val_loss: 15.9424 - val_acc: 0.0000e+00\n",
      "Epoch 11/20\n",
      "8/8 [==============================] - 0s 10ms/step - loss: 7.9712 - acc: 0.5000 - val_loss: 15.9424 - val_acc: 0.0000e+00\n",
      "Epoch 12/20\n",
      "8/8 [==============================] - 0s 10ms/step - loss: 7.9712 - acc: 0.5000 - val_loss: 15.9424 - val_acc: 0.0000e+00\n",
      "Epoch 13/20\n",
      "8/8 [==============================] - 0s 10ms/step - loss: 7.9712 - acc: 0.5000 - val_loss: 15.9424 - val_acc: 0.0000e+00\n",
      "Epoch 14/20\n",
      "8/8 [==============================] - 0s 10ms/step - loss: 7.9712 - acc: 0.5000 - val_loss: 15.9424 - val_acc: 0.0000e+00\n",
      "Epoch 15/20\n",
      "8/8 [==============================] - 0s 11ms/step - loss: 7.9712 - acc: 0.5000 - val_loss: 15.9424 - val_acc: 0.0000e+00\n",
      "Epoch 16/20\n",
      "8/8 [==============================] - 0s 10ms/step - loss: 7.9712 - acc: 0.5000 - val_loss: 15.9424 - val_acc: 0.0000e+00\n",
      "Epoch 17/20\n",
      "8/8 [==============================] - 0s 10ms/step - loss: 7.9712 - acc: 0.5000 - val_loss: 15.9424 - val_acc: 0.0000e+00\n",
      "Epoch 18/20\n",
      "8/8 [==============================] - 0s 11ms/step - loss: 7.9712 - acc: 0.5000 - val_loss: 15.9424 - val_acc: 0.0000e+00\n",
      "Epoch 19/20\n",
      "8/8 [==============================] - 0s 11ms/step - loss: 7.9712 - acc: 0.5000 - val_loss: 15.9424 - val_acc: 0.0000e+00\n",
      "Epoch 20/20\n",
      "8/8 [==============================] - 0s 11ms/step - loss: 7.9712 - acc: 0.5000 - val_loss: 15.9424 - val_acc: 0.0000e+00\n"
     ]
    },
    {
     "data": {
      "text/plain": [
       "<tensorflow.python.keras.callbacks.History at 0x7f1634193a20>"
      ]
     },
     "execution_count": 2,
     "metadata": {},
     "output_type": "execute_result"
    }
   ],
   "source": [
    "import tensorflow as tf\n",
    "from tensorflow.keras.models import Sequential\n",
    "from tensorflow.keras.layers import Dense, Dropout, Activation, Flatten\n",
    "from tensorflow.keras.layers import Conv2D, MaxPooling2D\n",
    "from tensorflow.keras.callbacks import TensorBoard\n",
    "import pickle\n",
    "import time\n",
    "\n",
    "NAME = \"Cats-vs-dogs-CNN\"\n",
    "tensorboard = TensorBoard(log_dir=\"logs/{}\".format(NAME))\n",
    "\n",
    "pickle_in = open(\"X.pickle\",\"rb\")\n",
    "X = pickle.load(pickle_in)\n",
    "\n",
    "pickle_in = open(\"y.pickle\",\"rb\")\n",
    "y = pickle.load(pickle_in)\n",
    "\n",
    "X = X/255.0\n",
    "\n",
    "model = Sequential()\n",
    "\n",
    "model.add(Conv2D(64, (3, 3), input_shape=X.shape[1:]))\n",
    "model.add(Activation('relu'))\n",
    "model.add(MaxPooling2D(pool_size=(2, 2)))\n",
    "\n",
    "model.add(Conv2D(64, (3, 3)))\n",
    "model.add(Activation('relu'))\n",
    "model.add(MaxPooling2D(pool_size=(2, 2)))\n",
    "\n",
    "model.add(Flatten())  # this converts our 3D feature maps to 1D feature vectors\n",
    "model.add(Dense(64))\n",
    "model.add(Dense(1))\n",
    "\n",
    "model.compile(loss='binary_crossentropy',\n",
    "              optimizer='adam',\n",
    "              metrics=['accuracy'])\n",
    "\n",
    "model.fit(X, y, batch_size=32, epochs=20, validation_split=0.1, callbacks=[tensorboard])"
   ]
  },
  {
   "cell_type": "code",
   "execution_count": null,
   "metadata": {},
   "outputs": [],
   "source": []
  }
 ],
 "metadata": {
  "kernelspec": {
   "display_name": "Python 3",
   "language": "python",
   "name": "python3"
  },
  "language_info": {
   "codemirror_mode": {
    "name": "ipython",
    "version": 3
   },
   "file_extension": ".py",
   "mimetype": "text/x-python",
   "name": "python",
   "nbconvert_exporter": "python",
   "pygments_lexer": "ipython3",
   "version": "3.6.6"
  }
 },
 "nbformat": 4,
 "nbformat_minor": 2
}
